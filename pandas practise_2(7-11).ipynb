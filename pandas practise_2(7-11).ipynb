{
 "cells": [
  {
   "cell_type": "code",
   "execution_count": 1,
   "id": "e45944b6",
   "metadata": {},
   "outputs": [],
   "source": [
    "import pandas as pd\n",
    "import openpyxl"
   ]
  },
  {
   "cell_type": "code",
   "execution_count": 2,
   "id": "d2208a56",
   "metadata": {},
   "outputs": [],
   "source": [
    "df = pd.read_excel('data.xlsx')"
   ]
  },
  {
   "cell_type": "code",
   "execution_count": 3,
   "id": "11b6207c",
   "metadata": {},
   "outputs": [
    {
     "data": {
      "text/html": [
       "<div>\n",
       "<style scoped>\n",
       "    .dataframe tbody tr th:only-of-type {\n",
       "        vertical-align: middle;\n",
       "    }\n",
       "\n",
       "    .dataframe tbody tr th {\n",
       "        vertical-align: top;\n",
       "    }\n",
       "\n",
       "    .dataframe thead th {\n",
       "        text-align: right;\n",
       "    }\n",
       "</style>\n",
       "<table border=\"1\" class=\"dataframe\">\n",
       "  <thead>\n",
       "    <tr style=\"text-align: right;\">\n",
       "      <th></th>\n",
       "      <th>OrderDate</th>\n",
       "      <th>Region</th>\n",
       "      <th>Rep</th>\n",
       "      <th>Item</th>\n",
       "      <th>Units</th>\n",
       "      <th>Unit Cost</th>\n",
       "      <th>Total</th>\n",
       "    </tr>\n",
       "  </thead>\n",
       "  <tbody>\n",
       "    <tr>\n",
       "      <th>0</th>\n",
       "      <td>2019-01-06</td>\n",
       "      <td>East</td>\n",
       "      <td>Jones</td>\n",
       "      <td>Pencil</td>\n",
       "      <td>95</td>\n",
       "      <td>1.99</td>\n",
       "      <td>189.05</td>\n",
       "    </tr>\n",
       "    <tr>\n",
       "      <th>1</th>\n",
       "      <td>2019-01-23</td>\n",
       "      <td>Central</td>\n",
       "      <td>Kivell</td>\n",
       "      <td>Binder</td>\n",
       "      <td>50</td>\n",
       "      <td>19.99</td>\n",
       "      <td>999.50</td>\n",
       "    </tr>\n",
       "    <tr>\n",
       "      <th>2</th>\n",
       "      <td>2019-02-09</td>\n",
       "      <td>Central</td>\n",
       "      <td>Jardine</td>\n",
       "      <td>Pencil</td>\n",
       "      <td>36</td>\n",
       "      <td>4.99</td>\n",
       "      <td>179.64</td>\n",
       "    </tr>\n",
       "    <tr>\n",
       "      <th>3</th>\n",
       "      <td>2019-02-26</td>\n",
       "      <td>Central</td>\n",
       "      <td>Gill</td>\n",
       "      <td>Pen</td>\n",
       "      <td>27</td>\n",
       "      <td>19.99</td>\n",
       "      <td>539.73</td>\n",
       "    </tr>\n",
       "    <tr>\n",
       "      <th>4</th>\n",
       "      <td>2019-03-15</td>\n",
       "      <td>West</td>\n",
       "      <td>Sorvino</td>\n",
       "      <td>Pencil</td>\n",
       "      <td>56</td>\n",
       "      <td>2.99</td>\n",
       "      <td>167.44</td>\n",
       "    </tr>\n",
       "  </tbody>\n",
       "</table>\n",
       "</div>"
      ],
      "text/plain": [
       "   OrderDate   Region      Rep    Item  Units  Unit Cost   Total\n",
       "0 2019-01-06     East    Jones  Pencil     95       1.99  189.05\n",
       "1 2019-01-23  Central   Kivell  Binder     50      19.99  999.50\n",
       "2 2019-02-09  Central  Jardine  Pencil     36       4.99  179.64\n",
       "3 2019-02-26  Central     Gill     Pen     27      19.99  539.73\n",
       "4 2019-03-15     West  Sorvino  Pencil     56       2.99  167.44"
      ]
     },
     "execution_count": 3,
     "metadata": {},
     "output_type": "execute_result"
    }
   ],
   "source": [
    "df.head()"
   ]
  },
  {
   "cell_type": "code",
   "execution_count": 4,
   "id": "f60451ac",
   "metadata": {},
   "outputs": [],
   "source": [
    "peoples={\n",
    "     'first':['corey','jane','john'],\n",
    "     'last':['schafer','doe','doe'],\n",
    "     'email':['coreymschafer@gmail.com','janedoe@email.com','johndeo@email.com']  \n",
    "}"
   ]
  },
  {
   "cell_type": "code",
   "execution_count": 5,
   "id": "7a11a9d7",
   "metadata": {},
   "outputs": [
    {
     "data": {
      "text/html": [
       "<div>\n",
       "<style scoped>\n",
       "    .dataframe tbody tr th:only-of-type {\n",
       "        vertical-align: middle;\n",
       "    }\n",
       "\n",
       "    .dataframe tbody tr th {\n",
       "        vertical-align: top;\n",
       "    }\n",
       "\n",
       "    .dataframe thead th {\n",
       "        text-align: right;\n",
       "    }\n",
       "</style>\n",
       "<table border=\"1\" class=\"dataframe\">\n",
       "  <thead>\n",
       "    <tr style=\"text-align: right;\">\n",
       "      <th></th>\n",
       "      <th>first</th>\n",
       "      <th>last</th>\n",
       "      <th>email</th>\n",
       "    </tr>\n",
       "  </thead>\n",
       "  <tbody>\n",
       "    <tr>\n",
       "      <th>0</th>\n",
       "      <td>corey</td>\n",
       "      <td>schafer</td>\n",
       "      <td>coreymschafer@gmail.com</td>\n",
       "    </tr>\n",
       "    <tr>\n",
       "      <th>1</th>\n",
       "      <td>jane</td>\n",
       "      <td>doe</td>\n",
       "      <td>janedoe@email.com</td>\n",
       "    </tr>\n",
       "    <tr>\n",
       "      <th>2</th>\n",
       "      <td>john</td>\n",
       "      <td>doe</td>\n",
       "      <td>johndeo@email.com</td>\n",
       "    </tr>\n",
       "  </tbody>\n",
       "</table>\n",
       "</div>"
      ],
      "text/plain": [
       "   first     last                    email\n",
       "0  corey  schafer  coreymschafer@gmail.com\n",
       "1   jane      doe        janedoe@email.com\n",
       "2   john      doe        johndeo@email.com"
      ]
     },
     "execution_count": 5,
     "metadata": {},
     "output_type": "execute_result"
    }
   ],
   "source": [
    "df1=pd.DataFrame(peoples)\n",
    "df1"
   ]
  },
  {
   "cell_type": "code",
   "execution_count": 6,
   "id": "5bb5df21",
   "metadata": {},
   "outputs": [
    {
     "data": {
      "text/html": [
       "<div>\n",
       "<style scoped>\n",
       "    .dataframe tbody tr th:only-of-type {\n",
       "        vertical-align: middle;\n",
       "    }\n",
       "\n",
       "    .dataframe tbody tr th {\n",
       "        vertical-align: top;\n",
       "    }\n",
       "\n",
       "    .dataframe thead th {\n",
       "        text-align: right;\n",
       "    }\n",
       "</style>\n",
       "<table border=\"1\" class=\"dataframe\">\n",
       "  <thead>\n",
       "    <tr style=\"text-align: right;\">\n",
       "      <th></th>\n",
       "      <th>first</th>\n",
       "      <th>last</th>\n",
       "      <th>email</th>\n",
       "    </tr>\n",
       "  </thead>\n",
       "  <tbody>\n",
       "    <tr>\n",
       "      <th>0</th>\n",
       "      <td>corey</td>\n",
       "      <td>schafer</td>\n",
       "      <td>coreymschafer@gmail.com</td>\n",
       "    </tr>\n",
       "    <tr>\n",
       "      <th>1</th>\n",
       "      <td>jane</td>\n",
       "      <td>doe</td>\n",
       "      <td>janedoe@email.com</td>\n",
       "    </tr>\n",
       "    <tr>\n",
       "      <th>2</th>\n",
       "      <td>john</td>\n",
       "      <td>doe</td>\n",
       "      <td>johndeo@email.com</td>\n",
       "    </tr>\n",
       "  </tbody>\n",
       "</table>\n",
       "</div>"
      ],
      "text/plain": [
       "   first     last                    email\n",
       "0  corey  schafer  coreymschafer@gmail.com\n",
       "1   jane      doe        janedoe@email.com\n",
       "2   john      doe        johndeo@email.com"
      ]
     },
     "execution_count": 6,
     "metadata": {},
     "output_type": "execute_result"
    }
   ],
   "source": [
    "df1.sort_values(by='first')#first or last base on senerious "
   ]
  },
  {
   "cell_type": "code",
   "execution_count": 7,
   "id": "0eca3b53",
   "metadata": {},
   "outputs": [
    {
     "ename": "SyntaxError",
     "evalue": "positional argument follows keyword argument (Temp/ipykernel_1360/836023457.py, line 1)",
     "output_type": "error",
     "traceback": [
      "\u001b[1;36m  File \u001b[1;32m\"C:\\Users\\acer01\\AppData\\Local\\Temp/ipykernel_1360/836023457.py\"\u001b[1;36m, line \u001b[1;32m1\u001b[0m\n\u001b[1;33m    df1.sort_values(by='last','first' , ascending=True) #asc or desc (False)\u001b[0m\n\u001b[1;37m                                                      ^\u001b[0m\n\u001b[1;31mSyntaxError\u001b[0m\u001b[1;31m:\u001b[0m positional argument follows keyword argument\n"
     ]
    }
   ],
   "source": [
    "df1.sort_values(by='last','first' , ascending=True) #asc or desc (False)"
   ]
  },
  {
   "cell_type": "code",
   "execution_count": null,
   "id": "a2f9c841",
   "metadata": {},
   "outputs": [],
   "source": [
    "df.head()"
   ]
  },
  {
   "cell_type": "code",
   "execution_count": null,
   "id": "27f99eca",
   "metadata": {},
   "outputs": [],
   "source": [
    "df.sort_values(by='Units',ascending=False).head()#units are sorted by desending order"
   ]
  },
  {
   "cell_type": "code",
   "execution_count": null,
   "id": "7a1f87d7",
   "metadata": {},
   "outputs": [],
   "source": [
    "df.sort_values(by=['Units','Total'],ascending=[False,True]).head()\n",
    "#units are sorted by desending and total by ascending order but data is not saved to save type inplace=True"
   ]
  },
  {
   "cell_type": "code",
   "execution_count": null,
   "id": "bccd289a",
   "metadata": {},
   "outputs": [],
   "source": [
    "df.sort_values(by=['Units','Total'],ascending=[False,True],inplace=True)\n",
    "df.head()"
   ]
  },
  {
   "cell_type": "code",
   "execution_count": null,
   "id": "73ec7da5",
   "metadata": {},
   "outputs": [],
   "source": [
    "df.sort_index().head()#to sort by index"
   ]
  },
  {
   "cell_type": "code",
   "execution_count": null,
   "id": "f51112f3",
   "metadata": {},
   "outputs": [],
   "source": [
    "df['Item'].sort_values().head()#to sort by column"
   ]
  },
  {
   "cell_type": "code",
   "execution_count": null,
   "id": "99a0d24c",
   "metadata": {},
   "outputs": [],
   "source": [
    "df['Total'].nlargest(6)#to know n largest"
   ]
  },
  {
   "cell_type": "code",
   "execution_count": null,
   "id": "a0ffa87e",
   "metadata": {},
   "outputs": [],
   "source": [
    "df.nlargest(10,'Total')#to check with complete database"
   ]
  },
  {
   "cell_type": "code",
   "execution_count": null,
   "id": "f7018bc8",
   "metadata": {},
   "outputs": [],
   "source": [
    "df.nsmallest(5,'Total')"
   ]
  },
  {
   "cell_type": "markdown",
   "id": "69c54ac6",
   "metadata": {},
   "source": [
    "# grouping and aggrating"
   ]
  },
  {
   "cell_type": "code",
   "execution_count": null,
   "id": "88fd99c3",
   "metadata": {},
   "outputs": [],
   "source": [
    "df.describe()"
   ]
  },
  {
   "cell_type": "code",
   "execution_count": null,
   "id": "95aa5606",
   "metadata": {},
   "outputs": [],
   "source": [
    "df['Total'].median()"
   ]
  },
  {
   "cell_type": "code",
   "execution_count": null,
   "id": "ade8f1aa",
   "metadata": {},
   "outputs": [],
   "source": [
    "df['Item'].value_counts()#to check counts"
   ]
  },
  {
   "cell_type": "code",
   "execution_count": null,
   "id": "34f16058",
   "metadata": {},
   "outputs": [],
   "source": [
    "df['Item'].nunique()"
   ]
  },
  {
   "cell_type": "code",
   "execution_count": null,
   "id": "53ba77ff",
   "metadata": {},
   "outputs": [],
   "source": [
    "df['Item'].value_counts(normalize=True)*100#to check percentage"
   ]
  },
  {
   "cell_type": "code",
   "execution_count": null,
   "id": "cec5ea55",
   "metadata": {},
   "outputs": [],
   "source": [
    "#a groupby operation is a combination of spliting the object applying the function and combining the results"
   ]
  },
  {
   "cell_type": "code",
   "execution_count": null,
   "id": "f11a0cbf",
   "metadata": {},
   "outputs": [],
   "source": [
    "item_list=df.groupby(['Item'])#setting filter "
   ]
  },
  {
   "cell_type": "code",
   "execution_count": null,
   "id": "bea718db",
   "metadata": {},
   "outputs": [],
   "source": [
    "item_list.get_group('Pencil')#filtering itms with pencils"
   ]
  },
  {
   "cell_type": "code",
   "execution_count": null,
   "id": "9c20e835",
   "metadata": {},
   "outputs": [],
   "source": [
    "filt=df['Item']=='Pencil'\n",
    "df.loc[filt]['Region'].value_counts()#filter by multiple columns"
   ]
  },
  {
   "cell_type": "code",
   "execution_count": null,
   "id": "e283b9e6",
   "metadata": {},
   "outputs": [],
   "source": [
    "item_list['Region'].value_counts()#results base on pencil"
   ]
  },
  {
   "cell_type": "code",
   "execution_count": null,
   "id": "d1eb0e61",
   "metadata": {},
   "outputs": [],
   "source": [
    "item_list['Rep'].value_counts().loc['Pencil']#result base on pen"
   ]
  },
  {
   "cell_type": "code",
   "execution_count": null,
   "id": "357e2f2f",
   "metadata": {},
   "outputs": [],
   "source": [
    "item_list.head()"
   ]
  },
  {
   "cell_type": "code",
   "execution_count": null,
   "id": "00274d0a",
   "metadata": {},
   "outputs": [],
   "source": [
    "item_list['Units'].agg(['median','mean'])#filter by all items"
   ]
  },
  {
   "cell_type": "code",
   "execution_count": null,
   "id": "82ab7b76",
   "metadata": {},
   "outputs": [],
   "source": [
    "item_list['Units'].agg(['median','mean']).loc['Binder']"
   ]
  },
  {
   "cell_type": "markdown",
   "id": "85f8c367",
   "metadata": {},
   "source": [
    "# cleaning data/handling missing values"
   ]
  },
  {
   "cell_type": "code",
   "execution_count": null,
   "id": "fe539467",
   "metadata": {},
   "outputs": [],
   "source": [
    "import numpy as np\n",
    "people = {\n",
    "    'first': ['Corey', 'Jane', 'John', 'Chris', np.nan, None, 'NA'], \n",
    "    'last': ['Schafer', 'Doe', 'Doe', 'Schafer', np.nan, np.nan, 'Missing'], \n",
    "    'email': ['CoreyMSchafer@gmail.com', 'JaneDoe@email.com', 'JohnDoe@email.com', None, np.nan, 'Anonymous@email.com', 'NA'],\n",
    "    'age': ['33', '55', '63', '36', None, None, 'Missing']\n",
    "}"
   ]
  },
  {
   "cell_type": "code",
   "execution_count": null,
   "id": "345ac54f",
   "metadata": {},
   "outputs": [],
   "source": [
    "df1=pd.DataFrame(people)\n",
    "df1"
   ]
  },
  {
   "cell_type": "code",
   "execution_count": null,
   "id": "aa62d55d",
   "metadata": {},
   "outputs": [],
   "source": [
    "df1.dropna()#to remove missing values"
   ]
  },
  {
   "cell_type": "code",
   "execution_count": null,
   "id": "bf21ec56",
   "metadata": {},
   "outputs": [],
   "source": [
    "df1.dropna(axis='index',how='all')#kept row which has atleast one value works by rows(index given)"
   ]
  },
  {
   "cell_type": "code",
   "execution_count": null,
   "id": "b7fb67de",
   "metadata": {},
   "outputs": [],
   "source": [
    "df1.dropna(axis='columns',how='all')#none of column has empy values"
   ]
  },
  {
   "cell_type": "code",
   "execution_count": null,
   "id": "03216483",
   "metadata": {},
   "outputs": [],
   "source": [
    "df1.dropna(axis='index',how='any',subset=['email'])#removing rows which are empty on email column"
   ]
  },
  {
   "cell_type": "code",
   "execution_count": null,
   "id": "674475c4",
   "metadata": {},
   "outputs": [],
   "source": [
    "df1.replace('NA',np.nan,inplace=True)\n",
    "df1.replace('Missing',np.nan,inplace=True)\n",
    "#here in this raw data we have 'NA' AND 'Missing' vlaue in roe to replace in nana"
   ]
  },
  {
   "cell_type": "code",
   "execution_count": null,
   "id": "3f2ff174",
   "metadata": {},
   "outputs": [],
   "source": [
    "df1#raw data is replace by nan"
   ]
  },
  {
   "cell_type": "code",
   "execution_count": null,
   "id": "7216020f",
   "metadata": {},
   "outputs": [],
   "source": [
    "df1.isna()#to check nan values"
   ]
  },
  {
   "cell_type": "code",
   "execution_count": null,
   "id": "d3e65b5e",
   "metadata": {},
   "outputs": [],
   "source": [
    "df1.fillna('missing')#to fill nan values"
   ]
  },
  {
   "cell_type": "code",
   "execution_count": null,
   "id": "0f986ad5",
   "metadata": {},
   "outputs": [],
   "source": [
    "df1.dtypes"
   ]
  },
  {
   "cell_type": "code",
   "execution_count": null,
   "id": "21bbd37b",
   "metadata": {
    "scrolled": true
   },
   "outputs": [],
   "source": [
    "df1['age'].mean()#cant work on obj only on int so need to convert data type to int"
   ]
  },
  {
   "cell_type": "code",
   "execution_count": null,
   "id": "e58e4b5b",
   "metadata": {},
   "outputs": [],
   "source": [
    "df1['age']=df1['age'].astype(float)\n",
    "#cant change to int bcz..values contain 'missing' name need to change to int number by fillna(0)\n",
    "#or convert to float datatype"
   ]
  },
  {
   "cell_type": "code",
   "execution_count": null,
   "id": "e6006036",
   "metadata": {},
   "outputs": [],
   "source": [
    "df1.dtypes"
   ]
  },
  {
   "cell_type": "code",
   "execution_count": null,
   "id": "5f12a137",
   "metadata": {},
   "outputs": [],
   "source": [
    "df1['age'].mean()"
   ]
  },
  {
   "cell_type": "code",
   "execution_count": null,
   "id": "0c0d511f",
   "metadata": {},
   "outputs": [],
   "source": [
    "df.dtypes"
   ]
  },
  {
   "cell_type": "markdown",
   "id": "d1ac8a92",
   "metadata": {},
   "source": [
    "# date and time series"
   ]
  },
  {
   "cell_type": "code",
   "execution_count": null,
   "id": "50e4e185",
   "metadata": {},
   "outputs": [],
   "source": [
    "df.head()"
   ]
  },
  {
   "cell_type": "code",
   "execution_count": null,
   "id": "4549ee04",
   "metadata": {},
   "outputs": [],
   "source": [
    "df.shape"
   ]
  },
  {
   "cell_type": "code",
   "execution_count": null,
   "id": "bfcf6007",
   "metadata": {},
   "outputs": [],
   "source": [
    "df.loc[0,'OrderDate']"
   ]
  },
  {
   "cell_type": "code",
   "execution_count": null,
   "id": "f94d6465",
   "metadata": {},
   "outputs": [],
   "source": [
    "df.loc[0,'OrderDate'].day_name()"
   ]
  },
  {
   "cell_type": "code",
   "execution_count": null,
   "id": "1616e6b0",
   "metadata": {},
   "outputs": [],
   "source": [
    "df['OrderDate']=pd.to_datetime(df['OrderDate'],format='%Y-%m-%d %I-%p')\n",
    "#to set string data type to datetime datatype and setting the format"
   ]
  },
  {
   "cell_type": "code",
   "execution_count": null,
   "id": "39313e00",
   "metadata": {},
   "outputs": [],
   "source": [
    "d_parser=lambda x: pd.datetime.strptime(x, '%Y-%m-%d %I-%p')\n",
    "df=pd.read_csv('filename',parse_dates=['date'],date_parser=d_parser)\n",
    "#to chnge datatype to datetime when loading csv file and changing format"
   ]
  },
  {
   "cell_type": "code",
   "execution_count": null,
   "id": "f4c6dc78",
   "metadata": {},
   "outputs": [],
   "source": [
    "df['OrderDate'].dt.day_name().head()#to know which day of complete column"
   ]
  },
  {
   "cell_type": "code",
   "execution_count": null,
   "id": "24cc2c91",
   "metadata": {},
   "outputs": [],
   "source": [
    "df['week']=df['OrderDate'].dt.day_name()\n",
    "df.head()#to add new column"
   ]
  },
  {
   "cell_type": "code",
   "execution_count": null,
   "id": "0d56a0e5",
   "metadata": {},
   "outputs": [],
   "source": [
    "df['OrderDate'].min()# to check the earliest date"
   ]
  },
  {
   "cell_type": "code",
   "execution_count": null,
   "id": "5380643c",
   "metadata": {},
   "outputs": [],
   "source": [
    "df['OrderDate'].max()#to check most resent date"
   ]
  },
  {
   "cell_type": "code",
   "execution_count": null,
   "id": "d203ae43",
   "metadata": {},
   "outputs": [],
   "source": [
    "df['OrderDate'].max()-df['OrderDate'].min()#to check difference between earliest and latest(gap)"
   ]
  },
  {
   "cell_type": "code",
   "execution_count": null,
   "id": "9d8bc2b6",
   "metadata": {},
   "outputs": [],
   "source": [
    "filt=(df['OrderDate']>='2020')\n",
    "df[filt].head()"
   ]
  },
  {
   "cell_type": "code",
   "execution_count": null,
   "id": "7952f0ee",
   "metadata": {},
   "outputs": [],
   "source": [
    "filt=(df['OrderDate']>='2019') &(df['OrderDate']>='2020')\n",
    "df[filt].head()#one way to filter (str)"
   ]
  },
  {
   "cell_type": "code",
   "execution_count": null,
   "id": "159a7f3c",
   "metadata": {},
   "outputs": [],
   "source": [
    "filt=(df['OrderDate'] >= pd.to_datetime('2020-01-15')) &(df['OrderDate'] <=pd.to_datetime('2020-03-24'))\n",
    "df[filt]#another way to filter with datetime datatype"
   ]
  },
  {
   "cell_type": "code",
   "execution_count": null,
   "id": "79b4aa35",
   "metadata": {},
   "outputs": [],
   "source": [
    "df.set_index('OrderDate').head()#setting index to order column"
   ]
  },
  {
   "cell_type": "code",
   "execution_count": 9,
   "id": "01f1ee17",
   "metadata": {},
   "outputs": [
    {
     "data": {
      "text/html": [
       "<div>\n",
       "<style scoped>\n",
       "    .dataframe tbody tr th:only-of-type {\n",
       "        vertical-align: middle;\n",
       "    }\n",
       "\n",
       "    .dataframe tbody tr th {\n",
       "        vertical-align: top;\n",
       "    }\n",
       "\n",
       "    .dataframe thead th {\n",
       "        text-align: right;\n",
       "    }\n",
       "</style>\n",
       "<table border=\"1\" class=\"dataframe\">\n",
       "  <thead>\n",
       "    <tr style=\"text-align: right;\">\n",
       "      <th></th>\n",
       "      <th>Region</th>\n",
       "      <th>Rep</th>\n",
       "      <th>Item</th>\n",
       "      <th>Units</th>\n",
       "      <th>Unit Cost</th>\n",
       "      <th>Total</th>\n",
       "    </tr>\n",
       "    <tr>\n",
       "      <th>OrderDate</th>\n",
       "      <th></th>\n",
       "      <th></th>\n",
       "      <th></th>\n",
       "      <th></th>\n",
       "      <th></th>\n",
       "      <th></th>\n",
       "    </tr>\n",
       "  </thead>\n",
       "  <tbody>\n",
       "    <tr>\n",
       "      <th>2019-01-06</th>\n",
       "      <td>East</td>\n",
       "      <td>Jones</td>\n",
       "      <td>Pencil</td>\n",
       "      <td>95</td>\n",
       "      <td>1.99</td>\n",
       "      <td>189.05</td>\n",
       "    </tr>\n",
       "    <tr>\n",
       "      <th>2019-01-23</th>\n",
       "      <td>Central</td>\n",
       "      <td>Kivell</td>\n",
       "      <td>Binder</td>\n",
       "      <td>50</td>\n",
       "      <td>19.99</td>\n",
       "      <td>999.50</td>\n",
       "    </tr>\n",
       "    <tr>\n",
       "      <th>2019-02-09</th>\n",
       "      <td>Central</td>\n",
       "      <td>Jardine</td>\n",
       "      <td>Pencil</td>\n",
       "      <td>36</td>\n",
       "      <td>4.99</td>\n",
       "      <td>179.64</td>\n",
       "    </tr>\n",
       "    <tr>\n",
       "      <th>2019-02-26</th>\n",
       "      <td>Central</td>\n",
       "      <td>Gill</td>\n",
       "      <td>Pen</td>\n",
       "      <td>27</td>\n",
       "      <td>19.99</td>\n",
       "      <td>539.73</td>\n",
       "    </tr>\n",
       "    <tr>\n",
       "      <th>2019-03-15</th>\n",
       "      <td>West</td>\n",
       "      <td>Sorvino</td>\n",
       "      <td>Pencil</td>\n",
       "      <td>56</td>\n",
       "      <td>2.99</td>\n",
       "      <td>167.44</td>\n",
       "    </tr>\n",
       "  </tbody>\n",
       "</table>\n",
       "</div>"
      ],
      "text/plain": [
       "             Region      Rep    Item  Units  Unit Cost   Total\n",
       "OrderDate                                                     \n",
       "2019-01-06     East    Jones  Pencil     95       1.99  189.05\n",
       "2019-01-23  Central   Kivell  Binder     50      19.99  999.50\n",
       "2019-02-09  Central  Jardine  Pencil     36       4.99  179.64\n",
       "2019-02-26  Central     Gill     Pen     27      19.99  539.73\n",
       "2019-03-15     West  Sorvino  Pencil     56       2.99  167.44"
      ]
     },
     "execution_count": 9,
     "metadata": {},
     "output_type": "execute_result"
    }
   ],
   "source": [
    "df.head()#index not save type inplace=true to save chnages made"
   ]
  },
  {
   "cell_type": "code",
   "execution_count": 8,
   "id": "6efefd25",
   "metadata": {},
   "outputs": [
    {
     "data": {
      "text/html": [
       "<div>\n",
       "<style scoped>\n",
       "    .dataframe tbody tr th:only-of-type {\n",
       "        vertical-align: middle;\n",
       "    }\n",
       "\n",
       "    .dataframe tbody tr th {\n",
       "        vertical-align: top;\n",
       "    }\n",
       "\n",
       "    .dataframe thead th {\n",
       "        text-align: right;\n",
       "    }\n",
       "</style>\n",
       "<table border=\"1\" class=\"dataframe\">\n",
       "  <thead>\n",
       "    <tr style=\"text-align: right;\">\n",
       "      <th></th>\n",
       "      <th>Region</th>\n",
       "      <th>Rep</th>\n",
       "      <th>Item</th>\n",
       "      <th>Units</th>\n",
       "      <th>Unit Cost</th>\n",
       "      <th>Total</th>\n",
       "    </tr>\n",
       "    <tr>\n",
       "      <th>OrderDate</th>\n",
       "      <th></th>\n",
       "      <th></th>\n",
       "      <th></th>\n",
       "      <th></th>\n",
       "      <th></th>\n",
       "      <th></th>\n",
       "    </tr>\n",
       "  </thead>\n",
       "  <tbody>\n",
       "    <tr>\n",
       "      <th>2019-01-06</th>\n",
       "      <td>East</td>\n",
       "      <td>Jones</td>\n",
       "      <td>Pencil</td>\n",
       "      <td>95</td>\n",
       "      <td>1.99</td>\n",
       "      <td>189.05</td>\n",
       "    </tr>\n",
       "    <tr>\n",
       "      <th>2019-01-23</th>\n",
       "      <td>Central</td>\n",
       "      <td>Kivell</td>\n",
       "      <td>Binder</td>\n",
       "      <td>50</td>\n",
       "      <td>19.99</td>\n",
       "      <td>999.50</td>\n",
       "    </tr>\n",
       "    <tr>\n",
       "      <th>2019-02-09</th>\n",
       "      <td>Central</td>\n",
       "      <td>Jardine</td>\n",
       "      <td>Pencil</td>\n",
       "      <td>36</td>\n",
       "      <td>4.99</td>\n",
       "      <td>179.64</td>\n",
       "    </tr>\n",
       "    <tr>\n",
       "      <th>2019-02-26</th>\n",
       "      <td>Central</td>\n",
       "      <td>Gill</td>\n",
       "      <td>Pen</td>\n",
       "      <td>27</td>\n",
       "      <td>19.99</td>\n",
       "      <td>539.73</td>\n",
       "    </tr>\n",
       "    <tr>\n",
       "      <th>2019-03-15</th>\n",
       "      <td>West</td>\n",
       "      <td>Sorvino</td>\n",
       "      <td>Pencil</td>\n",
       "      <td>56</td>\n",
       "      <td>2.99</td>\n",
       "      <td>167.44</td>\n",
       "    </tr>\n",
       "  </tbody>\n",
       "</table>\n",
       "</div>"
      ],
      "text/plain": [
       "             Region      Rep    Item  Units  Unit Cost   Total\n",
       "OrderDate                                                     \n",
       "2019-01-06     East    Jones  Pencil     95       1.99  189.05\n",
       "2019-01-23  Central   Kivell  Binder     50      19.99  999.50\n",
       "2019-02-09  Central  Jardine  Pencil     36       4.99  179.64\n",
       "2019-02-26  Central     Gill     Pen     27      19.99  539.73\n",
       "2019-03-15     West  Sorvino  Pencil     56       2.99  167.44"
      ]
     },
     "execution_count": 8,
     "metadata": {},
     "output_type": "execute_result"
    }
   ],
   "source": [
    "df.set_index('OrderDate',inplace=True)\n",
    "df.head()"
   ]
  },
  {
   "cell_type": "code",
   "execution_count": 11,
   "id": "49788ca8",
   "metadata": {},
   "outputs": [
    {
     "name": "stderr",
     "output_type": "stream",
     "text": [
      "C:\\Users\\acer01\\AppData\\Local\\Temp/ipykernel_1360/4274888025.py:1: FutureWarning: Indexing a DataFrame with a datetimelike index using a single string to slice the rows, like `frame[string]`, is deprecated and will be removed in a future version. Use `frame.loc[string]` instead.\n",
      "  df['2020'].head()\n"
     ]
    },
    {
     "data": {
      "text/html": [
       "<div>\n",
       "<style scoped>\n",
       "    .dataframe tbody tr th:only-of-type {\n",
       "        vertical-align: middle;\n",
       "    }\n",
       "\n",
       "    .dataframe tbody tr th {\n",
       "        vertical-align: top;\n",
       "    }\n",
       "\n",
       "    .dataframe thead th {\n",
       "        text-align: right;\n",
       "    }\n",
       "</style>\n",
       "<table border=\"1\" class=\"dataframe\">\n",
       "  <thead>\n",
       "    <tr style=\"text-align: right;\">\n",
       "      <th></th>\n",
       "      <th>Region</th>\n",
       "      <th>Rep</th>\n",
       "      <th>Item</th>\n",
       "      <th>Units</th>\n",
       "      <th>Unit Cost</th>\n",
       "      <th>Total</th>\n",
       "    </tr>\n",
       "    <tr>\n",
       "      <th>OrderDate</th>\n",
       "      <th></th>\n",
       "      <th></th>\n",
       "      <th></th>\n",
       "      <th></th>\n",
       "      <th></th>\n",
       "      <th></th>\n",
       "    </tr>\n",
       "  </thead>\n",
       "  <tbody>\n",
       "    <tr>\n",
       "      <th>2020-01-15</th>\n",
       "      <td>Central</td>\n",
       "      <td>Gill</td>\n",
       "      <td>Binder</td>\n",
       "      <td>46</td>\n",
       "      <td>8.99</td>\n",
       "      <td>413.54</td>\n",
       "    </tr>\n",
       "    <tr>\n",
       "      <th>2020-02-01</th>\n",
       "      <td>Central</td>\n",
       "      <td>Smith</td>\n",
       "      <td>Binder</td>\n",
       "      <td>87</td>\n",
       "      <td>15.00</td>\n",
       "      <td>1305.00</td>\n",
       "    </tr>\n",
       "    <tr>\n",
       "      <th>2020-02-18</th>\n",
       "      <td>East</td>\n",
       "      <td>Jones</td>\n",
       "      <td>Binder</td>\n",
       "      <td>4</td>\n",
       "      <td>4.99</td>\n",
       "      <td>19.96</td>\n",
       "    </tr>\n",
       "    <tr>\n",
       "      <th>2020-03-07</th>\n",
       "      <td>West</td>\n",
       "      <td>Sorvino</td>\n",
       "      <td>Binder</td>\n",
       "      <td>7</td>\n",
       "      <td>19.99</td>\n",
       "      <td>139.93</td>\n",
       "    </tr>\n",
       "    <tr>\n",
       "      <th>2020-03-24</th>\n",
       "      <td>Central</td>\n",
       "      <td>Jardine</td>\n",
       "      <td>Pen Set</td>\n",
       "      <td>50</td>\n",
       "      <td>4.99</td>\n",
       "      <td>249.50</td>\n",
       "    </tr>\n",
       "  </tbody>\n",
       "</table>\n",
       "</div>"
      ],
      "text/plain": [
       "             Region      Rep     Item  Units  Unit Cost    Total\n",
       "OrderDate                                                       \n",
       "2020-01-15  Central     Gill   Binder     46       8.99   413.54\n",
       "2020-02-01  Central    Smith   Binder     87      15.00  1305.00\n",
       "2020-02-18     East    Jones   Binder      4       4.99    19.96\n",
       "2020-03-07     West  Sorvino   Binder      7      19.99   139.93\n",
       "2020-03-24  Central  Jardine  Pen Set     50       4.99   249.50"
      ]
     },
     "execution_count": 11,
     "metadata": {},
     "output_type": "execute_result"
    }
   ],
   "source": [
    "df['2020'].head()"
   ]
  },
  {
   "cell_type": "code",
   "execution_count": 13,
   "id": "4dfaecbb",
   "metadata": {},
   "outputs": [
    {
     "data": {
      "text/html": [
       "<div>\n",
       "<style scoped>\n",
       "    .dataframe tbody tr th:only-of-type {\n",
       "        vertical-align: middle;\n",
       "    }\n",
       "\n",
       "    .dataframe tbody tr th {\n",
       "        vertical-align: top;\n",
       "    }\n",
       "\n",
       "    .dataframe thead th {\n",
       "        text-align: right;\n",
       "    }\n",
       "</style>\n",
       "<table border=\"1\" class=\"dataframe\">\n",
       "  <thead>\n",
       "    <tr style=\"text-align: right;\">\n",
       "      <th></th>\n",
       "      <th>Region</th>\n",
       "      <th>Rep</th>\n",
       "      <th>Item</th>\n",
       "      <th>Units</th>\n",
       "      <th>Unit Cost</th>\n",
       "      <th>Total</th>\n",
       "    </tr>\n",
       "    <tr>\n",
       "      <th>OrderDate</th>\n",
       "      <th></th>\n",
       "      <th></th>\n",
       "      <th></th>\n",
       "      <th></th>\n",
       "      <th></th>\n",
       "      <th></th>\n",
       "    </tr>\n",
       "  </thead>\n",
       "  <tbody>\n",
       "    <tr>\n",
       "      <th>2020-01-15</th>\n",
       "      <td>Central</td>\n",
       "      <td>Gill</td>\n",
       "      <td>Binder</td>\n",
       "      <td>46</td>\n",
       "      <td>8.99</td>\n",
       "      <td>413.54</td>\n",
       "    </tr>\n",
       "    <tr>\n",
       "      <th>2020-02-01</th>\n",
       "      <td>Central</td>\n",
       "      <td>Smith</td>\n",
       "      <td>Binder</td>\n",
       "      <td>87</td>\n",
       "      <td>15.00</td>\n",
       "      <td>1305.00</td>\n",
       "    </tr>\n",
       "    <tr>\n",
       "      <th>2020-02-18</th>\n",
       "      <td>East</td>\n",
       "      <td>Jones</td>\n",
       "      <td>Binder</td>\n",
       "      <td>4</td>\n",
       "      <td>4.99</td>\n",
       "      <td>19.96</td>\n",
       "    </tr>\n",
       "    <tr>\n",
       "      <th>2020-03-07</th>\n",
       "      <td>West</td>\n",
       "      <td>Sorvino</td>\n",
       "      <td>Binder</td>\n",
       "      <td>7</td>\n",
       "      <td>19.99</td>\n",
       "      <td>139.93</td>\n",
       "    </tr>\n",
       "    <tr>\n",
       "      <th>2020-03-24</th>\n",
       "      <td>Central</td>\n",
       "      <td>Jardine</td>\n",
       "      <td>Pen Set</td>\n",
       "      <td>50</td>\n",
       "      <td>4.99</td>\n",
       "      <td>249.50</td>\n",
       "    </tr>\n",
       "  </tbody>\n",
       "</table>\n",
       "</div>"
      ],
      "text/plain": [
       "             Region      Rep     Item  Units  Unit Cost    Total\n",
       "OrderDate                                                       \n",
       "2020-01-15  Central     Gill   Binder     46       8.99   413.54\n",
       "2020-02-01  Central    Smith   Binder     87      15.00  1305.00\n",
       "2020-02-18     East    Jones   Binder      4       4.99    19.96\n",
       "2020-03-07     West  Sorvino   Binder      7      19.99   139.93\n",
       "2020-03-24  Central  Jardine  Pen Set     50       4.99   249.50"
      ]
     },
     "execution_count": 13,
     "metadata": {},
     "output_type": "execute_result"
    }
   ],
   "source": [
    "df.loc['2020'].head() #or df['2020-01-15':'2020-02-25']#using slicing"
   ]
  },
  {
   "cell_type": "code",
   "execution_count": 14,
   "id": "bba5333a",
   "metadata": {},
   "outputs": [
    {
     "data": {
      "text/plain": [
       "OrderDate\n",
       "2020-01-15     413.54\n",
       "2020-02-01    1305.00\n",
       "2020-02-18      19.96\n",
       "Name: Total, dtype: float64"
      ]
     },
     "execution_count": 14,
     "metadata": {},
     "output_type": "execute_result"
    }
   ],
   "source": [
    "df['2020-01-15':'2020-02-25']['Total']"
   ]
  },
  {
   "cell_type": "code",
   "execution_count": 15,
   "id": "19cfb19a",
   "metadata": {},
   "outputs": [
    {
     "data": {
      "text/plain": [
       "579.5"
      ]
     },
     "execution_count": 15,
     "metadata": {},
     "output_type": "execute_result"
    }
   ],
   "source": [
    "df['2020-01-15':'2020-02-25']['Total'].mean()"
   ]
  },
  {
   "cell_type": "code",
   "execution_count": 16,
   "id": "20a124e4",
   "metadata": {},
   "outputs": [
    {
     "data": {
      "text/plain": [
       "1305.0"
      ]
     },
     "execution_count": 16,
     "metadata": {},
     "output_type": "execute_result"
    }
   ],
   "source": [
    "df['2020-01-15':'2020-02-25']['Total'].max()"
   ]
  },
  {
   "cell_type": "code",
   "execution_count": 18,
   "id": "3d0ace19",
   "metadata": {},
   "outputs": [
    {
     "data": {
      "text/plain": [
       "OrderDate\n",
       "2019-01-06    189.05\n",
       "2019-01-07       NaN\n",
       "2019-01-08       NaN\n",
       "2019-01-09       NaN\n",
       "2019-01-10       NaN\n",
       "               ...  \n",
       "2020-12-17       NaN\n",
       "2020-12-18       NaN\n",
       "2020-12-19       NaN\n",
       "2020-12-20       NaN\n",
       "2020-12-21    139.72\n",
       "Freq: D, Name: Total, Length: 716, dtype: float64"
      ]
     },
     "execution_count": 18,
     "metadata": {},
     "output_type": "execute_result"
    }
   ],
   "source": [
    "df['Total'].resample('D').max()#to check high vlues of each day"
   ]
  },
  {
   "cell_type": "code",
   "execution_count": 20,
   "id": "1df73c9f",
   "metadata": {},
   "outputs": [],
   "source": [
    "%matplotlib inline"
   ]
  },
  {
   "cell_type": "code",
   "execution_count": 22,
   "id": "3484783f",
   "metadata": {},
   "outputs": [
    {
     "data": {
      "text/plain": [
       "<AxesSubplot:xlabel='OrderDate'>"
      ]
     },
     "execution_count": 22,
     "metadata": {},
     "output_type": "execute_result"
    },
    {
     "data": {
      "image/png": "[encoded data removed]",
      "text/plain": [
       "<Figure size 432x288 with 1 Axes>"
      ]
     },
     "metadata": {
      "needs_background": "light"
     },
     "output_type": "display_data"
    }
   ],
   "source": [
    "df['Total'].plot()"
   ]
  },
  {
   "cell_type": "code",
   "execution_count": 23,
   "id": "ab26c3be",
   "metadata": {},
   "outputs": [
    {
     "data": {
      "text/html": [
       "<div>\n",
       "<style scoped>\n",
       "    .dataframe tbody tr th:only-of-type {\n",
       "        vertical-align: middle;\n",
       "    }\n",
       "\n",
       "    .dataframe tbody tr th {\n",
       "        vertical-align: top;\n",
       "    }\n",
       "\n",
       "    .dataframe thead th {\n",
       "        text-align: right;\n",
       "    }\n",
       "</style>\n",
       "<table border=\"1\" class=\"dataframe\">\n",
       "  <thead>\n",
       "    <tr style=\"text-align: right;\">\n",
       "      <th></th>\n",
       "      <th>Units</th>\n",
       "      <th>Unit Cost</th>\n",
       "      <th>Total</th>\n",
       "    </tr>\n",
       "    <tr>\n",
       "      <th>OrderDate</th>\n",
       "      <th></th>\n",
       "      <th></th>\n",
       "      <th></th>\n",
       "    </tr>\n",
       "  </thead>\n",
       "  <tbody>\n",
       "    <tr>\n",
       "      <th>2019-01-06</th>\n",
       "      <td>95.0</td>\n",
       "      <td>1.99</td>\n",
       "      <td>189.05</td>\n",
       "    </tr>\n",
       "    <tr>\n",
       "      <th>2019-01-13</th>\n",
       "      <td>NaN</td>\n",
       "      <td>NaN</td>\n",
       "      <td>NaN</td>\n",
       "    </tr>\n",
       "    <tr>\n",
       "      <th>2019-01-20</th>\n",
       "      <td>NaN</td>\n",
       "      <td>NaN</td>\n",
       "      <td>NaN</td>\n",
       "    </tr>\n",
       "    <tr>\n",
       "      <th>2019-01-27</th>\n",
       "      <td>50.0</td>\n",
       "      <td>19.99</td>\n",
       "      <td>999.50</td>\n",
       "    </tr>\n",
       "    <tr>\n",
       "      <th>2019-02-03</th>\n",
       "      <td>NaN</td>\n",
       "      <td>NaN</td>\n",
       "      <td>NaN</td>\n",
       "    </tr>\n",
       "    <tr>\n",
       "      <th>...</th>\n",
       "      <td>...</td>\n",
       "      <td>...</td>\n",
       "      <td>...</td>\n",
       "    </tr>\n",
       "    <tr>\n",
       "      <th>2020-11-29</th>\n",
       "      <td>NaN</td>\n",
       "      <td>NaN</td>\n",
       "      <td>NaN</td>\n",
       "    </tr>\n",
       "    <tr>\n",
       "      <th>2020-12-06</th>\n",
       "      <td>94.0</td>\n",
       "      <td>19.99</td>\n",
       "      <td>1879.06</td>\n",
       "    </tr>\n",
       "    <tr>\n",
       "      <th>2020-12-13</th>\n",
       "      <td>NaN</td>\n",
       "      <td>NaN</td>\n",
       "      <td>NaN</td>\n",
       "    </tr>\n",
       "    <tr>\n",
       "      <th>2020-12-20</th>\n",
       "      <td>NaN</td>\n",
       "      <td>NaN</td>\n",
       "      <td>NaN</td>\n",
       "    </tr>\n",
       "    <tr>\n",
       "      <th>2020-12-27</th>\n",
       "      <td>28.0</td>\n",
       "      <td>4.99</td>\n",
       "      <td>139.72</td>\n",
       "    </tr>\n",
       "  </tbody>\n",
       "</table>\n",
       "<p>104 rows × 3 columns</p>\n",
       "</div>"
      ],
      "text/plain": [
       "            Units  Unit Cost    Total\n",
       "OrderDate                            \n",
       "2019-01-06   95.0       1.99   189.05\n",
       "2019-01-13    NaN        NaN      NaN\n",
       "2019-01-20    NaN        NaN      NaN\n",
       "2019-01-27   50.0      19.99   999.50\n",
       "2019-02-03    NaN        NaN      NaN\n",
       "...           ...        ...      ...\n",
       "2020-11-29    NaN        NaN      NaN\n",
       "2020-12-06   94.0      19.99  1879.06\n",
       "2020-12-13    NaN        NaN      NaN\n",
       "2020-12-20    NaN        NaN      NaN\n",
       "2020-12-27   28.0       4.99   139.72\n",
       "\n",
       "[104 rows x 3 columns]"
      ]
     },
     "execution_count": 23,
     "metadata": {},
     "output_type": "execute_result"
    }
   ],
   "source": [
    "df.resample('W').mean()#give result on date column on weeakly bases"
   ]
  },
  {
   "cell_type": "code",
   "execution_count": 27,
   "id": "8a06e476",
   "metadata": {},
   "outputs": [
    {
     "data": {
      "text/html": [
       "<div>\n",
       "<style scoped>\n",
       "    .dataframe tbody tr th:only-of-type {\n",
       "        vertical-align: middle;\n",
       "    }\n",
       "\n",
       "    .dataframe tbody tr th {\n",
       "        vertical-align: top;\n",
       "    }\n",
       "\n",
       "    .dataframe thead th {\n",
       "        text-align: right;\n",
       "    }\n",
       "</style>\n",
       "<table border=\"1\" class=\"dataframe\">\n",
       "  <thead>\n",
       "    <tr style=\"text-align: right;\">\n",
       "      <th></th>\n",
       "      <th>Units</th>\n",
       "      <th>Unit Cost</th>\n",
       "      <th>Total</th>\n",
       "    </tr>\n",
       "    <tr>\n",
       "      <th>OrderDate</th>\n",
       "      <th></th>\n",
       "      <th></th>\n",
       "      <th></th>\n",
       "    </tr>\n",
       "  </thead>\n",
       "  <tbody>\n",
       "    <tr>\n",
       "      <th>2019-01-06</th>\n",
       "      <td>95.0</td>\n",
       "      <td>1.99</td>\n",
       "      <td>189.05</td>\n",
       "    </tr>\n",
       "    <tr>\n",
       "      <th>2019-01-13</th>\n",
       "      <td>NaN</td>\n",
       "      <td>NaN</td>\n",
       "      <td>0.00</td>\n",
       "    </tr>\n",
       "    <tr>\n",
       "      <th>2019-01-20</th>\n",
       "      <td>NaN</td>\n",
       "      <td>NaN</td>\n",
       "      <td>0.00</td>\n",
       "    </tr>\n",
       "    <tr>\n",
       "      <th>2019-01-27</th>\n",
       "      <td>50.0</td>\n",
       "      <td>19.99</td>\n",
       "      <td>999.50</td>\n",
       "    </tr>\n",
       "    <tr>\n",
       "      <th>2019-02-03</th>\n",
       "      <td>NaN</td>\n",
       "      <td>NaN</td>\n",
       "      <td>0.00</td>\n",
       "    </tr>\n",
       "    <tr>\n",
       "      <th>...</th>\n",
       "      <td>...</td>\n",
       "      <td>...</td>\n",
       "      <td>...</td>\n",
       "    </tr>\n",
       "    <tr>\n",
       "      <th>2020-11-29</th>\n",
       "      <td>NaN</td>\n",
       "      <td>NaN</td>\n",
       "      <td>0.00</td>\n",
       "    </tr>\n",
       "    <tr>\n",
       "      <th>2020-12-06</th>\n",
       "      <td>94.0</td>\n",
       "      <td>19.99</td>\n",
       "      <td>1879.06</td>\n",
       "    </tr>\n",
       "    <tr>\n",
       "      <th>2020-12-13</th>\n",
       "      <td>NaN</td>\n",
       "      <td>NaN</td>\n",
       "      <td>0.00</td>\n",
       "    </tr>\n",
       "    <tr>\n",
       "      <th>2020-12-20</th>\n",
       "      <td>NaN</td>\n",
       "      <td>NaN</td>\n",
       "      <td>0.00</td>\n",
       "    </tr>\n",
       "    <tr>\n",
       "      <th>2020-12-27</th>\n",
       "      <td>28.0</td>\n",
       "      <td>4.99</td>\n",
       "      <td>139.72</td>\n",
       "    </tr>\n",
       "  </tbody>\n",
       "</table>\n",
       "<p>104 rows × 3 columns</p>\n",
       "</div>"
      ],
      "text/plain": [
       "            Units  Unit Cost    Total\n",
       "OrderDate                            \n",
       "2019-01-06   95.0       1.99   189.05\n",
       "2019-01-13    NaN        NaN     0.00\n",
       "2019-01-20    NaN        NaN     0.00\n",
       "2019-01-27   50.0      19.99   999.50\n",
       "2019-02-03    NaN        NaN     0.00\n",
       "...           ...        ...      ...\n",
       "2020-11-29    NaN        NaN     0.00\n",
       "2020-12-06   94.0      19.99  1879.06\n",
       "2020-12-13    NaN        NaN     0.00\n",
       "2020-12-20    NaN        NaN     0.00\n",
       "2020-12-27   28.0       4.99   139.72\n",
       "\n",
       "[104 rows x 3 columns]"
      ]
     },
     "execution_count": 27,
     "metadata": {},
     "output_type": "execute_result"
    }
   ],
   "source": [
    "df.resample('W').agg({'Units':'mean','Unit Cost':'max','Total':'sum'})"
   ]
  },
  {
   "cell_type": "code",
   "execution_count": null,
   "id": "57e2d356",
   "metadata": {},
   "outputs": [],
   "source": []
  }
 ],
 "metadata": {
  "kernelspec": {
   "display_name": "Python 3 (ipykernel)",
   "language": "python",
   "name": "python3"
  },
  "language_info": {
   "codemirror_mode": {
    "name": "ipython",
    "version": 3
   },
   "file_extension": ".py",
   "mimetype": "text/x-python",
   "name": "python",
   "nbconvert_exporter": "python",
   "pygments_lexer": "ipython3",
   "version": "3.9.7"
  }
 },
 "nbformat": 4,
 "nbformat_minor": 5
}
