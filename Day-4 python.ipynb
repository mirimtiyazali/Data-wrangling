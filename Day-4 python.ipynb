{
 "cells": [
  {
   "cell_type": "code",
   "execution_count": 1,
   "id": "3bb92242",
   "metadata": {},
   "outputs": [
    {
     "data": {
      "text/plain": [
       "{'fruit_name': ('apple', 'mango', 'orange', 'guava')}"
      ]
     },
     "execution_count": 1,
     "metadata": {},
     "output_type": "execute_result"
    }
   ],
   "source": [
    "mydict={'fruit_name':('apple','mango','orange','guava')}\n",
    "mydict"
   ]
  },
  {
   "cell_type": "code",
   "execution_count": 3,
   "id": "5e3988fc",
   "metadata": {},
   "outputs": [
    {
     "data": {
      "text/plain": [
       "dict_keys(['fruit_name'])"
      ]
     },
     "execution_count": 3,
     "metadata": {},
     "output_type": "execute_result"
    }
   ],
   "source": [
    "mydict.keys()"
   ]
  },
  {
   "cell_type": "code",
   "execution_count": 4,
   "id": "7f0bc98c",
   "metadata": {},
   "outputs": [
    {
     "data": {
      "text/plain": [
       "dict_values([('apple', 'mango', 'orange', 'guava')])"
      ]
     },
     "execution_count": 4,
     "metadata": {},
     "output_type": "execute_result"
    }
   ],
   "source": [
    "mydict.values()"
   ]
  },
  {
   "cell_type": "code",
   "execution_count": 6,
   "id": "166ae056",
   "metadata": {},
   "outputs": [],
   "source": [
    "class human:\n",
    "    name=None\n",
    "    age=None\n",
    "    def get_name(self):\n",
    "        print('enter your name')\n",
    "        self.name=input()\n",
    "    def get_age(self):\n",
    "        print('enter your age')\n",
    "        self.age=input()\n",
    "    def put_name(self):\n",
    "        print('your name is',self.name)\n",
    "    def put_age(self):\n",
    "        print('your age is',self.age)"
   ]
  },
  {
   "cell_type": "code",
   "execution_count": 7,
   "id": "b8a41b82",
   "metadata": {},
   "outputs": [],
   "source": [
    "person1=human()"
   ]
  },
  {
   "cell_type": "code",
   "execution_count": 8,
   "id": "5a68c211",
   "metadata": {},
   "outputs": [
    {
     "name": "stdout",
     "output_type": "stream",
     "text": [
      "enter your name\n",
      "ali\n"
     ]
    }
   ],
   "source": [
    "person1.get_name()"
   ]
  },
  {
   "cell_type": "code",
   "execution_count": 9,
   "id": "2ea4dfaa",
   "metadata": {},
   "outputs": [
    {
     "name": "stdout",
     "output_type": "stream",
     "text": [
      "enter your age\n",
      "24\n"
     ]
    }
   ],
   "source": [
    "person1.get_age()"
   ]
  },
  {
   "cell_type": "code",
   "execution_count": 10,
   "id": "4e5d9ae4",
   "metadata": {},
   "outputs": [
    {
     "name": "stdout",
     "output_type": "stream",
     "text": [
      "your age is 24\n",
      "your name is ali\n"
     ]
    },
    {
     "data": {
      "text/plain": [
       "(None, None)"
      ]
     },
     "execution_count": 10,
     "metadata": {},
     "output_type": "execute_result"
    }
   ],
   "source": [
    "person1.put_age(),person1.put_name()"
   ]
  },
  {
   "cell_type": "code",
   "execution_count": 15,
   "id": "417a7e72",
   "metadata": {},
   "outputs": [
    {
     "name": "stdout",
     "output_type": "stream",
     "text": [
      "im a fruit\n",
      "im citrus\n"
     ]
    }
   ],
   "source": [
    "#inheritance\n",
    "class fruit:\n",
    "    def __init__(self):\n",
    "        print('im a fruit')\n",
    "class citrus(fruit):\n",
    "    def __init__(self):\n",
    "        super().__init__()\n",
    "        print('im citrus')\n",
    "lemon=citrus()"
   ]
  },
  {
   "cell_type": "code",
   "execution_count": 21,
   "id": "ff11dada",
   "metadata": {},
   "outputs": [],
   "source": [
    "#__init__\n",
    "class student:\n",
    "    def __init__ (self,name,age,branch):\n",
    "        self.name=name\n",
    "        self.age=age\n",
    "        self.branch=branch\n",
    "    def print_student(self):\n",
    "        print('name',self.name)\n",
    "        print('age',self.age)\n",
    "        print('branch',self.branch)\n"
   ]
  },
  {
   "cell_type": "code",
   "execution_count": 22,
   "id": "3a5ac5ba",
   "metadata": {},
   "outputs": [],
   "source": [
    "student1=student('bob',12,'engineering')"
   ]
  },
  {
   "cell_type": "code",
   "execution_count": 24,
   "id": "17ec2008",
   "metadata": {},
   "outputs": [
    {
     "name": "stdout",
     "output_type": "stream",
     "text": [
      "name bob\n",
      "age 12\n",
      "branch engineering\n"
     ]
    }
   ],
   "source": [
    "student1.print_student()"
   ]
  },
  {
   "cell_type": "code",
   "execution_count": 26,
   "id": "89d29563",
   "metadata": {},
   "outputs": [
    {
     "data": {
      "text/plain": [
       "array([100,  52])"
      ]
     },
     "execution_count": 26,
     "metadata": {},
     "output_type": "execute_result"
    }
   ],
   "source": [
    "import numpy as np\n",
    "import pandas as pd\n",
    "x=np.array([12,52,48,100,5,8])\n",
    "x[np.argsort(x)[-2:][: :-1]]"
   ]
  },
  {
   "cell_type": "code",
   "execution_count": 27,
   "id": "e7f0ef9e",
   "metadata": {},
   "outputs": [
    {
     "data": {
      "text/html": [
       "<div>\n",
       "<style scoped>\n",
       "    .dataframe tbody tr th:only-of-type {\n",
       "        vertical-align: middle;\n",
       "    }\n",
       "\n",
       "    .dataframe tbody tr th {\n",
       "        vertical-align: top;\n",
       "    }\n",
       "\n",
       "    .dataframe thead th {\n",
       "        text-align: right;\n",
       "    }\n",
       "</style>\n",
       "<table border=\"1\" class=\"dataframe\">\n",
       "  <thead>\n",
       "    <tr style=\"text-align: right;\">\n",
       "      <th></th>\n",
       "      <th>0</th>\n",
       "    </tr>\n",
       "  </thead>\n",
       "  <tbody>\n",
       "    <tr>\n",
       "      <th>0</th>\n",
       "      <td>1</td>\n",
       "    </tr>\n",
       "    <tr>\n",
       "      <th>1</th>\n",
       "      <td>2</td>\n",
       "    </tr>\n",
       "    <tr>\n",
       "      <th>2</th>\n",
       "      <td>3</td>\n",
       "    </tr>\n",
       "    <tr>\n",
       "      <th>3</th>\n",
       "      <td>4</td>\n",
       "    </tr>\n",
       "    <tr>\n",
       "      <th>4</th>\n",
       "      <td>5</td>\n",
       "    </tr>\n",
       "  </tbody>\n",
       "</table>\n",
       "</div>"
      ],
      "text/plain": [
       "   0\n",
       "0  1\n",
       "1  2\n",
       "2  3\n",
       "3  4\n",
       "4  5"
      ]
     },
     "execution_count": 27,
     "metadata": {},
     "output_type": "execute_result"
    }
   ],
   "source": [
    "l=[1,2,3,4,5]\n",
    "data=pd.DataFrame(l)\n",
    "data"
   ]
  },
  {
   "cell_type": "code",
   "execution_count": 29,
   "id": "a8a9428d",
   "metadata": {},
   "outputs": [],
   "source": [
    "from matplotlib import pyplot as plt"
   ]
  },
  {
   "cell_type": "code",
   "execution_count": 33,
   "id": "94036a1c",
   "metadata": {},
   "outputs": [
    {
     "data": {
      "text/plain": [
       "Text(0.5, 1.0, 'x vs y')"
      ]
     },
     "execution_count": 33,
     "metadata": {},
     "output_type": "execute_result"
    },
    {
     "data": {
      "image/png": "[encoded data removed]",
      "text/plain": [
       "<Figure size 432x288 with 1 Axes>"
      ]
     },
     "metadata": {
      "needs_background": "light"
     },
     "output_type": "display_data"
    }
   ],
   "source": [
    "x=np.arange(0,10,1)\n",
    "y=np.arange(0,10,1)\n",
    "plt.plot(x,y)\n",
    "plt.xlabel('x-axis')\n",
    "plt.ylabel('y-axis')\n",
    "plt.title('x vs y')\n"
   ]
  },
  {
   "cell_type": "code",
   "execution_count": 34,
   "id": "6f6a1210",
   "metadata": {},
   "outputs": [
    {
     "name": "stdout",
     "output_type": "stream",
     "text": [
      "12\n"
     ]
    }
   ],
   "source": [
    "a='opthalmology'\n",
    "count=0\n",
    "for i in a:\n",
    "    count=count+1\n",
    "print(count)"
   ]
  },
  {
   "cell_type": "code",
   "execution_count": null,
   "id": "8edeb9d3",
   "metadata": {},
   "outputs": [],
   "source": []
  }
 ],
 "metadata": {
  "kernelspec": {
   "display_name": "Python 3 (ipykernel)",
   "language": "python",
   "name": "python3"
  },
  "language_info": {
   "codemirror_mode": {
    "name": "ipython",
    "version": 3
   },
   "file_extension": ".py",
   "mimetype": "text/x-python",
   "name": "python",
   "nbconvert_exporter": "python",
   "pygments_lexer": "ipython3",
   "version": "3.9.7"
  }
 },
 "nbformat": 4,
 "nbformat_minor": 5
}
